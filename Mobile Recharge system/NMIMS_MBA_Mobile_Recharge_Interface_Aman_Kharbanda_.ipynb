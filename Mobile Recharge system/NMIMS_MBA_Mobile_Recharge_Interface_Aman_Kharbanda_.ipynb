{
 "cells": [
  {
   "cell_type": "markdown",
   "metadata": {},
   "source": [
    "# Mobile Recharge System\n"
   ]
  },
  {
   "cell_type": "markdown",
   "metadata": {},
   "source": [
    "# Enter Personal Information\n"
   ]
  },
  {
   "cell_type": "code",
   "execution_count": 13,
   "metadata": {},
   "outputs": [
    {
     "name": "stdout",
     "output_type": "stream",
     "text": [
      "Enter your name - aman\n",
      "Enter your mobile number - 9872335577\n"
     ]
    }
   ],
   "source": [
    "# With the help of below code we have requested the input for name and mobile number of the customer\n",
    "while True:\n",
    "    \n",
    "    name = input('Enter your name - ')\n",
    "    try:\n",
    "        integern_input = float(name)\n",
    "        print(\"Enter a valid name\")\n",
    "    except:\n",
    "        break\n",
    "\n",
    "while True:\n",
    "    number = input('Enter your mobile number - ')\n",
    "    \n",
    "# Checking if the number is of 10 digits , starts with 6,7,8 or 9 and also conatins only numbers.\n",
    "    \n",
    "    if len(number) == 10 and number[0] in ['6','7','8','9'] and number.isdigit():  \n",
    "        #print(number) \n",
    "        break\n",
    "        \n",
    "    else:\n",
    "        print('invalid number')\n"
   ]
  },
  {
   "cell_type": "markdown",
   "metadata": {},
   "source": [
    "# Select Circle\n"
   ]
  },
  {
   "cell_type": "code",
   "execution_count": 14,
   "metadata": {},
   "outputs": [
    {
     "name": "stdout",
     "output_type": "stream",
     "text": [
      "AP : Andhra Pradesh & Telangana\n",
      "AS : Assam\n",
      "BR : Bihar & Jharkhand\n",
      "DL : Delhi\n",
      "GJ : Gujrat\n",
      "HP : Himachal Pradesh\n",
      "HR : Haryana\n",
      "JK : Jammu and Kashmir\n",
      "KL : Kerela and Lakshadweep\n",
      "KA : Karnataka\n",
      "KO : Kolkata\n",
      "MH : Maharashtra and Goa\n",
      "MP : Madhya Pradesh and Chhattisgarh\n",
      "MU : Mumbai\n",
      "NE : North East\n",
      "OR : Orissa\n",
      "PB : Punjab\n",
      "RJ : Rajasthan\n",
      "TN : Tamil Nadu\n",
      "UE : UP (East)\n",
      "UW : UP (West)\n",
      "WB : West Bengal\n",
      "GB : Ghaziabad and Noida\n",
      "Enter your circle code - pb\n",
      "you have selected the circle - Punjab\n"
     ]
    }
   ],
   "source": [
    "# Storing the data of all the given circle along with their codes in a dictionary\n",
    "\n",
    "circles = {'AP':'Andhra Pradesh & Telangana', 'AS':'Assam', 'BR':'Bihar & Jharkhand', 'DL':'Delhi', 'GJ':'Gujrat', 'HP':'Himachal Pradesh', 'HR':'Haryana', 'JK':'Jammu and Kashmir', 'KL':'Kerela and Lakshadweep', 'KA':'Karnataka','KO':'Kolkata', 'MH':'Maharashtra and Goa', 'MP':'Madhya Pradesh and Chhattisgarh', 'MU':'Mumbai', 'NE':'North East', 'OR':'Orissa', 'PB':'Punjab', 'RJ':'Rajasthan', 'TN':'Tamil Nadu', 'UE':'UP (East)', 'UW':'UP (West)', 'WB':'West Bengal', 'GB':'Ghaziabad and Noida'}\n",
    "\n",
    "#print(circles)\n",
    "\n",
    "# Printing every circle code along with their circle name\n",
    "for state_code in circles:\n",
    "    state_name = circles[state_code]\n",
    "    print(state_code,':',state_name)\n",
    "\n",
    "    \n",
    "# Validation Step \n",
    "while True:\n",
    "\n",
    "    circle_code = input('Enter your circle code - ').upper()\n",
    "    if circle_code in circles:\n",
    "        break\n",
    "    else:\n",
    "        print('invalid circle code')\n",
    "    \n",
    "\n",
    "    \n",
    "    \n",
    "print('you have selected the circle -', circles[circle_code])\n",
    "\n",
    "\n",
    "# with the help of above code we have created a list of circles and their respective circle names \n",
    "# and requested for the input for the customer's circle."
   ]
  },
  {
   "cell_type": "markdown",
   "metadata": {},
   "source": [
    "# Recharge Type \n"
   ]
  },
  {
   "cell_type": "code",
   "execution_count": 15,
   "metadata": {},
   "outputs": [
    {
     "name": "stdout",
     "output_type": "stream",
     "text": [
      "Enter your recharge type(postpaid or prepaid) - postpaid\n"
     ]
    }
   ],
   "source": [
    "# Requesting user to select a type of recharge and also validating if the entered recharge type is a valid one.\n",
    "\n",
    "while True:    \n",
    "    recharge_type = input('Enter your recharge type(postpaid or prepaid) - ' ).lower() \n",
    "    \n",
    "    if recharge_type == 'postpaid' or recharge_type == 'prepaid':\n",
    "        break\n",
    "    else:\n",
    "        print(\"Please enter 'Prepaid' or 'Postpaid' as your recharge type \")\n",
    "    \n",
    "\n",
    "\n"
   ]
  },
  {
   "cell_type": "markdown",
   "metadata": {},
   "source": [
    "# Postpaid option\n"
   ]
  },
  {
   "cell_type": "code",
   "execution_count": 16,
   "metadata": {},
   "outputs": [
    {
     "name": "stdout",
     "output_type": "stream",
     "text": [
      "Please enter your bill amount in digits , INR : 930.24\n"
     ]
    }
   ],
   "source": [
    "# If the user selects postpaid then it will ask for the bill amount to be paid\n",
    "\n",
    "if recharge_type == 'postpaid':\n",
    "    while True:\n",
    "        \n",
    "        bill_amount = float(input('Please enter your bill amount in digits , INR : '))\n",
    "        \n",
    "        if bill_amount > 0:\n",
    "            break\n",
    "        else:\n",
    "            print('please enter valid bill amount')\n",
    "    \n",
    "    "
   ]
  },
  {
   "cell_type": "markdown",
   "metadata": {},
   "source": [
    "# Prepaid Recharge Plans"
   ]
  },
  {
   "cell_type": "code",
   "execution_count": 17,
   "metadata": {},
   "outputs": [],
   "source": [
    "# Recharge Plans for prepaid customers\n",
    "\n",
    "full_recharge = {250:'Unlimited calls(local/national) + 1.5GB data/day + 100 SMS/ day. Val = 28 days' , 400 : 'Unlimited calls(local/national) + 3 GB data/day + 100 SMS/ day. Val = 28 days', 450 : 'Unlimited calls(local/national) + 1.5GB data/day + 100 SMS/ day. Val = 56 days', 500:'Unlimited calls(local/national) + 1.5GB data/day + 100 SMS/ day. Val = 70 days', 550:'Unlimited calls(local/national) + 1.5GB data/day + 100 SMS/ day. Val = 77days'}\n",
    "#print(full_recharge)\n",
    "\n",
    "#for full_recharge_pack in full_recharge:\n",
    "#    pack_type = full_recharge[full_recharge_pack]\n",
    "#    print('INR', full_recharge_pack, '-', pack_type)\n",
    "\n",
    "talktime_only = {100:'Talktime: Rs. 82  Val = 28 days', 50:'Talktime: Rs. 39  Val = 28 days', 30:'Talktime: Rs. 22  Val = 28 days', 20:'Talktime: Rs. 14  Val = 28 days', 10:'Talktime: Rs. 7  Val = 28 days'}\n",
    "#print(talktime_only)\n",
    "\n",
    "#for talktime_only_pack in talktime_only:\n",
    " #   pack_details = talktime_only[talktime_only_pack]\n",
    "  #  print('INR', talktime_only_pack, '-', pack_details)\n",
    "\n",
    "\n",
    "data_packs = {1200:'240 GB data Val= 240 days', 600:'72 GB data Val= 70 days', 250:'50 GB data Val= 28 days', 100:'12 GB data Val= 28 days', 50:'6 GB data Val= 28 days'}\n",
    "#print(data_packs)\n",
    "\n",
    "#for data_pack_type in data_packs:\n",
    " #   data_pack_details = data_packs[data_pack_type]\n",
    " #   print('INR', data_pack_type, '-', data_pack_details)\n",
    "\n"
   ]
  },
  {
   "cell_type": "markdown",
   "metadata": {},
   "source": [
    "# Prepaid Plan"
   ]
  },
  {
   "cell_type": "code",
   "execution_count": 18,
   "metadata": {},
   "outputs": [],
   "source": [
    "# If the users selected prepaid plan then the code will ask for the recharge type and also validate at the same time \n",
    "# using the while loop\n",
    "\n",
    "\n",
    "if recharge_type == 'prepaid':\n",
    "    print('We have the following recharge packs \\n 1.Full recharge \\n 2.Talktime only \\n 3.Data packs')\n",
    "   \n",
    "    while True:\n",
    "        \n",
    "        recharge_pack = input('Please select correct number of your recharge pack - ')\n",
    "        \n",
    "        if recharge_pack in ['1','2','3']:\n",
    "            break\n",
    "        \n",
    "        \n",
    "        else:\n",
    "            print('invalid recharge pack option number')\n",
    "            \n",
    "    \n",
    "    if recharge_pack == '1':\n",
    "        selected_pack = full_recharge\n",
    "        \n",
    "        for full_recharge_pack in full_recharge:\n",
    "            pack_type = full_recharge[full_recharge_pack]\n",
    "            print('INR', full_recharge_pack, '-', pack_type) \n",
    "                  \n",
    "                  \n",
    "    elif recharge_pack == '2':\n",
    "        selected_pack = talktime_only\n",
    "        \n",
    "        for talktime_only_pack in talktime_only:\n",
    "            pack_details = talktime_only[talktime_only_pack]\n",
    "            print('INR', talktime_only_pack, '-', pack_details)\n",
    "        \n",
    "    \n",
    "                  \n",
    "                  \n",
    "                  \n",
    "    elif recharge_pack == '3':\n",
    "        selected_pack = data_packs\n",
    "        \n",
    "        for data_pack_type in data_packs:\n",
    "            data_pack_details = data_packs[data_pack_type]\n",
    "            print('INR', data_pack_type, '-', data_pack_details)\n",
    "        \n",
    "        \n",
    "        \n",
    "    while True :\n",
    "    \n",
    "            \n",
    "        pack_cost = float(input('Enter the desired recharge amount - '))\n",
    "            \n",
    "        if pack_cost in selected_pack:\n",
    "        \n",
    "            break\n",
    "        else:\n",
    "             print('invalid pack cost')\n",
    "        \n",
    "        \n",
    "        \n",
    "    "
   ]
  },
  {
   "cell_type": "markdown",
   "metadata": {},
   "source": [
    "# Payment options"
   ]
  },
  {
   "cell_type": "code",
   "execution_count": 19,
   "metadata": {},
   "outputs": [],
   "source": [
    "# Creating a list of all the available payment options\n",
    "\n",
    "payment_methods = ['Credit card', 'Debit card', 'UPI', 'Net Banking', 'Cash']"
   ]
  },
  {
   "cell_type": "code",
   "execution_count": 20,
   "metadata": {},
   "outputs": [
    {
     "name": "stdout",
     "output_type": "stream",
     "text": [
      "1 Credit card\n",
      "2 Debit card\n",
      "3 UPI\n",
      "4 Net Banking\n",
      "5 Cash\n",
      "PLease select your desired option number for mode of payment - 2\n",
      "You have selected the mode of payment as -  Debit card\n"
     ]
    }
   ],
   "source": [
    "# Printing out the available payment options for the user to selct from and also validating using the while loop\n",
    "\n",
    "for methods in range(len(payment_methods)):\n",
    "    print(methods+1, payment_methods[methods])\n",
    "        \n",
    "while True:\n",
    "    method = int(input('PLease select your desired option number for mode of payment - '))\n",
    "    \n",
    "    if method in [1,2,3,4,5]:\n",
    "        break\n",
    "    else:\n",
    "        print('you have selected an invalid payment method')\n",
    "        \n",
    "print('You have selected the mode of payment as - ', payment_methods[method - 1])\n",
    "\n",
    "    \n",
    "    "
   ]
  },
  {
   "cell_type": "markdown",
   "metadata": {},
   "source": [
    "# Printing Invoice"
   ]
  },
  {
   "cell_type": "code",
   "execution_count": 21,
   "metadata": {},
   "outputs": [
    {
     "name": "stdout",
     "output_type": "stream",
     "text": [
      "***********************************************************************************************************************\n",
      "                                         K.K Telecom Services                                                           \n",
      "***********************************************************************************************************************\n",
      "Dear aman,\n",
      "                Thank you for choosing K.K Telecom Services. We sincerely appreciate your business.                    \n",
      "------------------------------------------Invoice Details--------------------------------------------------------------\n",
      "***********************************************************************************************************************\n",
      "Customer Name : aman\n",
      "Phone Number: 9872335577\n",
      "Customer Circle : Punjab\n",
      "Recharge Type : postpaid\n",
      "Outstanding Bill : 930.24\n",
      "Mode of Payment : Debit card\n",
      "-----------------------------------------------------------------------------------------------------------------------\n",
      "Cost - Rs. 930.24\n",
      "GST(18%) - Rs. 167.44\n",
      "Total Amount - Rs. 1097.68\n",
      "************************************************************************************************************************\n",
      "                                        Thank you                                                                       \n",
      "                                     Visit us again !\n",
      "************************************************************************************************************************\n"
     ]
    }
   ],
   "source": [
    "# Now in the final step we will be printing the invoice generated from the customer's data \n",
    "\n",
    "print('***********************************************************************************************************************')\n",
    "\n",
    "print('                                         K.K Telecom Services                                                           ')\n",
    "\n",
    "print('***********************************************************************************************************************')\n",
    "\n",
    "print('Dear', name+',')\n",
    "\n",
    "print('                Thank you for choosing K.K Telecom Services. We sincerely appreciate your business.                    ')\n",
    "\n",
    "print('------------------------------------------Invoice Details--------------------------------------------------------------')\n",
    "\n",
    "print('***********************************************************************************************************************')\n",
    "\n",
    "print('Customer Name :',  name)\n",
    "print('Phone Number:', number)\n",
    "print('Customer Circle', ':', circles[circle_code])\n",
    "print('Recharge Type', ':',  recharge_type)\n",
    "\n",
    "if recharge_type == 'postpaid':\n",
    "    print('Outstanding Bill :' ,bill_amount)\n",
    "    cost = bill_amount \n",
    "    \n",
    "else:\n",
    "    print('Package : Rs.',pack_cost, selected_pack[pack_cost])\n",
    "    cost = pack_cost \n",
    "    \n",
    "print('Mode of Payment', ':',  payment_methods[method - 1])\n",
    "\n",
    "print('-----------------------------------------------------------------------------------------------------------------------')\n",
    "\n",
    "# Rounding the tax calculated from the formula\n",
    "\n",
    "tax = round((18/100) * cost, 2 )\n",
    "total_amount = round(cost + tax,2) \n",
    "\n",
    "print('Cost','- Rs.',cost)\n",
    "print('GST(18%)', '- Rs.', tax)\n",
    "print('Total Amount', '- Rs.', total_amount)\n",
    "\n",
    "print('************************************************************************************************************************')\n",
    "\n",
    "print('                                        Thank you                                                                       ')\n",
    "print('                                     Visit us again !')\n",
    "print('************************************************************************************************************************')\n"
   ]
  }
 ],
 "metadata": {
  "kernelspec": {
   "display_name": "Python 3",
   "language": "python",
   "name": "python3"
  },
  "language_info": {
   "codemirror_mode": {
    "name": "ipython",
    "version": 3
   },
   "file_extension": ".py",
   "mimetype": "text/x-python",
   "name": "python",
   "nbconvert_exporter": "python",
   "pygments_lexer": "ipython3",
   "version": "3.8.3"
  }
 },
 "nbformat": 4,
 "nbformat_minor": 4
}
